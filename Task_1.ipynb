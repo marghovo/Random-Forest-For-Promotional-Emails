{
 "cells": [
  {
   "cell_type": "code",
   "execution_count": 52,
   "metadata": {
    "colab": {},
    "colab_type": "code",
    "id": "U2WPbYnFNZlj"
   },
   "outputs": [],
   "source": [
    "#imports\n",
    "import matplotlib.pyplot as plt\n",
    "\n",
    "from sklearn import svm, datasets\n",
    "from sklearn.model_selection import train_test_split\n",
    "from sklearn.metrics import confusion_matrix\n",
    "from sklearn import metrics\n",
    "from sklearn.metrics import classification_report\n",
    "from sklearn.model_selection import cross_val_score\n",
    "from sklearn.utils.multiclass import unique_labels\n",
    "from sklearn.metrics import roc_curve, auc\n",
    "\n",
    "import pandas as pd\n",
    "import numpy as np\n",
    "import pickle\n",
    "import matplotlib.pyplot as plt\n",
    "from scipy import stats\n",
    "import tensorflow as tf\n",
    "import seaborn as sns\n",
    "from pylab import rcParams\n",
    "from sklearn.model_selection import train_test_split\n",
    "from keras.models import Model, load_model\n",
    "from keras.layers import Input, Dense\n",
    "from keras.callbacks import ModelCheckpoint, TensorBoard\n",
    "from keras import regularizers\n",
    "import io\n",
    "import pandas as pd\n",
    "from sklearn.model_selection import cross_validate\n",
    "import matplotlib\n",
    "from sklearn.ensemble import RandomForestClassifier"
   ]
  },
  {
   "cell_type": "code",
   "execution_count": 2,
   "metadata": {
    "colab": {},
    "colab_type": "code",
    "id": "QdKpi3-5Zr0R"
   },
   "outputs": [],
   "source": [
    "#plot confusion matrix\n",
    "\"https://scikit-learn.org/stable/auto_examples/model_selection/plot_confusion_matrix.html#sphx-glr-auto-examples-model-selection-plot-confusion-matrix-py\"\n",
    "def plot_confusion_matrix(y_true, y_pred, classes,\n",
    "                          normalize=False,\n",
    "                          title=None,\n",
    "                          cmap=plt.cm.Blues):\n",
    "    \"\"\"\n",
    "    This function prints and plots the confusion matrix.\n",
    "    Normalization can be applied by setting `normalize=True`.\n",
    "    \"\"\"\n",
    "    if not title:\n",
    "        if normalize:\n",
    "            title = 'Normalized confusion matrix'\n",
    "        else:\n",
    "            title = 'Confusion matrix, without normalization'\n",
    "\n",
    "    # Compute confusion matrix\n",
    "    cm = confusion_matrix(y_true, y_pred)\n",
    "    # Only use the labels that appear in the data\n",
    "    classes = classes[unique_labels(y_true, y_pred)]\n",
    "    if normalize:\n",
    "        cm = cm.astype('float') / cm.sum(axis=1)[:, np.newaxis]\n",
    "        print(\"Normalized confusion matrix\")\n",
    "    else:\n",
    "        print('Confusion matrix, without normalization')\n",
    "\n",
    "    print(cm)\n",
    "\n",
    "    fig, ax = plt.subplots()\n",
    "    im = ax.imshow(cm, interpolation='nearest', cmap=cmap)\n",
    "    ax.figure.colorbar(im, ax=ax)\n",
    "    # We want to show all ticks...\n",
    "    ax.set(xticks=np.arange(cm.shape[1]),\n",
    "           yticks=np.arange(cm.shape[0]),\n",
    "           # ... and label them with the respective list entries\n",
    "           xticklabels=classes, yticklabels=classes,\n",
    "           title=title,\n",
    "           ylabel='True label',\n",
    "           xlabel='Predicted label')\n",
    "\n",
    "    # Rotate the tick labels and set their alignment.\n",
    "    plt.setp(ax.get_xticklabels(), rotation=45, ha=\"right\",\n",
    "             rotation_mode=\"anchor\")\n",
    "\n",
    "    # Loop over data dimensions and create text annotations.\n",
    "    fmt = '.2f' if normalize else 'd'\n",
    "    thresh = cm.max() / 2.\n",
    "    for i in range(cm.shape[0]):\n",
    "        for j in range(cm.shape[1]):\n",
    "            ax.text(j, i, format(cm[i, j], fmt),\n",
    "                    ha=\"center\", va=\"center\",\n",
    "                    color=\"white\" if cm[i, j] > thresh else \"black\")\n",
    "    fig.tight_layout()\n",
    "    return ax\n"
   ]
  },
  {
   "cell_type": "code",
   "execution_count": 3,
   "metadata": {
    "colab": {},
    "colab_type": "code",
    "id": "X3Q1rjMC1REo"
   },
   "outputs": [],
   "source": [
    "train = pd.read_csv(\"train.csv\")\n",
    "test = pd.read_csv(\"test.csv\")"
   ]
  },
  {
   "cell_type": "code",
   "execution_count": 4,
   "metadata": {
    "colab": {
     "base_uri": "https://localhost:8080/",
     "height": 215
    },
    "colab_type": "code",
    "id": "JYsfVkk21Y0f",
    "outputId": "88189a85-ceba-40d7-8528-e5b8fbfbc92c"
   },
   "outputs": [
    {
     "data": {
      "text/html": [
       "<div>\n",
       "<style scoped>\n",
       "    .dataframe tbody tr th:only-of-type {\n",
       "        vertical-align: middle;\n",
       "    }\n",
       "\n",
       "    .dataframe tbody tr th {\n",
       "        vertical-align: top;\n",
       "    }\n",
       "\n",
       "    .dataframe thead th {\n",
       "        text-align: right;\n",
       "    }\n",
       "</style>\n",
       "<table border=\"1\" class=\"dataframe\">\n",
       "  <thead>\n",
       "    <tr style=\"text-align: right;\">\n",
       "      <th></th>\n",
       "      <th>variable_0</th>\n",
       "      <th>variable_1</th>\n",
       "      <th>variable_2</th>\n",
       "      <th>variable_3</th>\n",
       "      <th>variable_4</th>\n",
       "      <th>variable_5</th>\n",
       "      <th>variable_6</th>\n",
       "      <th>variable_7</th>\n",
       "      <th>variable_8</th>\n",
       "      <th>variable_9</th>\n",
       "      <th>...</th>\n",
       "      <th>variable_11</th>\n",
       "      <th>variable_12</th>\n",
       "      <th>variable_13</th>\n",
       "      <th>variable_14</th>\n",
       "      <th>variable_15</th>\n",
       "      <th>variable_16</th>\n",
       "      <th>variable_17</th>\n",
       "      <th>State</th>\n",
       "      <th>ID</th>\n",
       "      <th>target</th>\n",
       "    </tr>\n",
       "  </thead>\n",
       "  <tbody>\n",
       "    <tr>\n",
       "      <th>0</th>\n",
       "      <td>120</td>\n",
       "      <td>2.51</td>\n",
       "      <td>6.60</td>\n",
       "      <td>0</td>\n",
       "      <td>0</td>\n",
       "      <td>9.3</td>\n",
       "      <td>16.69</td>\n",
       "      <td>186.7</td>\n",
       "      <td>4</td>\n",
       "      <td>15.87</td>\n",
       "      <td>...</td>\n",
       "      <td>0</td>\n",
       "      <td>146.7</td>\n",
       "      <td>85</td>\n",
       "      <td>99</td>\n",
       "      <td>96</td>\n",
       "      <td>408</td>\n",
       "      <td>2</td>\n",
       "      <td>GA</td>\n",
       "      <td>0</td>\n",
       "      <td>0</td>\n",
       "    </tr>\n",
       "    <tr>\n",
       "      <th>1</th>\n",
       "      <td>94</td>\n",
       "      <td>1.81</td>\n",
       "      <td>8.13</td>\n",
       "      <td>0</td>\n",
       "      <td>0</td>\n",
       "      <td>6.7</td>\n",
       "      <td>30.82</td>\n",
       "      <td>182.4</td>\n",
       "      <td>2</td>\n",
       "      <td>15.50</td>\n",
       "      <td>...</td>\n",
       "      <td>0</td>\n",
       "      <td>180.6</td>\n",
       "      <td>108</td>\n",
       "      <td>135</td>\n",
       "      <td>103</td>\n",
       "      <td>415</td>\n",
       "      <td>0</td>\n",
       "      <td>OH</td>\n",
       "      <td>1</td>\n",
       "      <td>0</td>\n",
       "    </tr>\n",
       "    <tr>\n",
       "      <th>2</th>\n",
       "      <td>82</td>\n",
       "      <td>3.00</td>\n",
       "      <td>4.93</td>\n",
       "      <td>0</td>\n",
       "      <td>0</td>\n",
       "      <td>11.1</td>\n",
       "      <td>24.46</td>\n",
       "      <td>194.9</td>\n",
       "      <td>2</td>\n",
       "      <td>16.57</td>\n",
       "      <td>...</td>\n",
       "      <td>0</td>\n",
       "      <td>109.6</td>\n",
       "      <td>105</td>\n",
       "      <td>61</td>\n",
       "      <td>94</td>\n",
       "      <td>510</td>\n",
       "      <td>1</td>\n",
       "      <td>DC</td>\n",
       "      <td>2</td>\n",
       "      <td>0</td>\n",
       "    </tr>\n",
       "    <tr>\n",
       "      <th>3</th>\n",
       "      <td>170</td>\n",
       "      <td>2.27</td>\n",
       "      <td>6.05</td>\n",
       "      <td>0</td>\n",
       "      <td>1</td>\n",
       "      <td>8.4</td>\n",
       "      <td>44.18</td>\n",
       "      <td>245.0</td>\n",
       "      <td>3</td>\n",
       "      <td>20.83</td>\n",
       "      <td>...</td>\n",
       "      <td>0</td>\n",
       "      <td>134.4</td>\n",
       "      <td>122</td>\n",
       "      <td>68</td>\n",
       "      <td>121</td>\n",
       "      <td>510</td>\n",
       "      <td>3</td>\n",
       "      <td>VA</td>\n",
       "      <td>3</td>\n",
       "      <td>0</td>\n",
       "    </tr>\n",
       "    <tr>\n",
       "      <th>4</th>\n",
       "      <td>93</td>\n",
       "      <td>3.38</td>\n",
       "      <td>3.20</td>\n",
       "      <td>19</td>\n",
       "      <td>0</td>\n",
       "      <td>12.5</td>\n",
       "      <td>23.26</td>\n",
       "      <td>179.5</td>\n",
       "      <td>3</td>\n",
       "      <td>15.26</td>\n",
       "      <td>...</td>\n",
       "      <td>1</td>\n",
       "      <td>71.1</td>\n",
       "      <td>105</td>\n",
       "      <td>113</td>\n",
       "      <td>95</td>\n",
       "      <td>510</td>\n",
       "      <td>2</td>\n",
       "      <td>CA</td>\n",
       "      <td>4</td>\n",
       "      <td>0</td>\n",
       "    </tr>\n",
       "  </tbody>\n",
       "</table>\n",
       "<p>5 rows × 21 columns</p>\n",
       "</div>"
      ],
      "text/plain": [
       "   variable_0  variable_1  variable_2  variable_3  variable_4  variable_5  \\\n",
       "0         120        2.51        6.60           0           0         9.3   \n",
       "1          94        1.81        8.13           0           0         6.7   \n",
       "2          82        3.00        4.93           0           0        11.1   \n",
       "3         170        2.27        6.05           0           1         8.4   \n",
       "4          93        3.38        3.20          19           0        12.5   \n",
       "\n",
       "   variable_6  variable_7  variable_8  variable_9   ...    variable_11  \\\n",
       "0       16.69       186.7           4       15.87   ...              0   \n",
       "1       30.82       182.4           2       15.50   ...              0   \n",
       "2       24.46       194.9           2       16.57   ...              0   \n",
       "3       44.18       245.0           3       20.83   ...              0   \n",
       "4       23.26       179.5           3       15.26   ...              1   \n",
       "\n",
       "   variable_12  variable_13  variable_14  variable_15  variable_16  \\\n",
       "0        146.7           85           99           96          408   \n",
       "1        180.6          108          135          103          415   \n",
       "2        109.6          105           61           94          510   \n",
       "3        134.4          122           68          121          510   \n",
       "4         71.1          105          113           95          510   \n",
       "\n",
       "   variable_17  State ID  target  \n",
       "0            2     GA  0       0  \n",
       "1            0     OH  1       0  \n",
       "2            1     DC  2       0  \n",
       "3            3     VA  3       0  \n",
       "4            2     CA  4       0  \n",
       "\n",
       "[5 rows x 21 columns]"
      ]
     },
     "execution_count": 4,
     "metadata": {},
     "output_type": "execute_result"
    }
   ],
   "source": [
    "train.head()"
   ]
  },
  {
   "cell_type": "code",
   "execution_count": 5,
   "metadata": {
    "colab": {},
    "colab_type": "code",
    "id": "OhKQ4BcaSsXp"
   },
   "outputs": [],
   "source": [
    "#data pre-processing\n",
    "train = train.drop([\"State\", \"ID\"], axis = 1)\n",
    "test = test.drop([\"State\", \"ID\"], axis = 1)"
   ]
  },
  {
   "cell_type": "code",
   "execution_count": 6,
   "metadata": {
    "colab": {
     "base_uri": "https://localhost:8080/",
     "height": 215
    },
    "colab_type": "code",
    "id": "zBNxXNXN2KWV",
    "outputId": "e65432d0-d720-4cca-e564-32d221b6b244"
   },
   "outputs": [
    {
     "data": {
      "text/html": [
       "<div>\n",
       "<style scoped>\n",
       "    .dataframe tbody tr th:only-of-type {\n",
       "        vertical-align: middle;\n",
       "    }\n",
       "\n",
       "    .dataframe tbody tr th {\n",
       "        vertical-align: top;\n",
       "    }\n",
       "\n",
       "    .dataframe thead th {\n",
       "        text-align: right;\n",
       "    }\n",
       "</style>\n",
       "<table border=\"1\" class=\"dataframe\">\n",
       "  <thead>\n",
       "    <tr style=\"text-align: right;\">\n",
       "      <th></th>\n",
       "      <th>variable_0</th>\n",
       "      <th>variable_1</th>\n",
       "      <th>variable_2</th>\n",
       "      <th>variable_3</th>\n",
       "      <th>variable_4</th>\n",
       "      <th>variable_5</th>\n",
       "      <th>variable_6</th>\n",
       "      <th>variable_7</th>\n",
       "      <th>variable_8</th>\n",
       "      <th>variable_9</th>\n",
       "      <th>variable_10</th>\n",
       "      <th>variable_11</th>\n",
       "      <th>variable_12</th>\n",
       "      <th>variable_13</th>\n",
       "      <th>variable_14</th>\n",
       "      <th>variable_15</th>\n",
       "      <th>variable_16</th>\n",
       "      <th>variable_17</th>\n",
       "    </tr>\n",
       "  </thead>\n",
       "  <tbody>\n",
       "    <tr>\n",
       "      <th>0</th>\n",
       "      <td>54</td>\n",
       "      <td>2.62</td>\n",
       "      <td>5.21</td>\n",
       "      <td>0</td>\n",
       "      <td>0</td>\n",
       "      <td>9.7</td>\n",
       "      <td>27.17</td>\n",
       "      <td>264.0</td>\n",
       "      <td>7</td>\n",
       "      <td>22.44</td>\n",
       "      <td>159.8</td>\n",
       "      <td>0</td>\n",
       "      <td>115.7</td>\n",
       "      <td>64</td>\n",
       "      <td>99</td>\n",
       "      <td>70</td>\n",
       "      <td>408</td>\n",
       "      <td>2</td>\n",
       "    </tr>\n",
       "    <tr>\n",
       "      <th>1</th>\n",
       "      <td>116</td>\n",
       "      <td>3.35</td>\n",
       "      <td>5.86</td>\n",
       "      <td>0</td>\n",
       "      <td>0</td>\n",
       "      <td>12.4</td>\n",
       "      <td>23.36</td>\n",
       "      <td>120.0</td>\n",
       "      <td>2</td>\n",
       "      <td>10.20</td>\n",
       "      <td>137.4</td>\n",
       "      <td>0</td>\n",
       "      <td>130.3</td>\n",
       "      <td>94</td>\n",
       "      <td>126</td>\n",
       "      <td>64</td>\n",
       "      <td>510</td>\n",
       "      <td>3</td>\n",
       "    </tr>\n",
       "    <tr>\n",
       "      <th>2</th>\n",
       "      <td>92</td>\n",
       "      <td>3.32</td>\n",
       "      <td>10.78</td>\n",
       "      <td>0</td>\n",
       "      <td>0</td>\n",
       "      <td>12.3</td>\n",
       "      <td>31.40</td>\n",
       "      <td>262.0</td>\n",
       "      <td>6</td>\n",
       "      <td>22.27</td>\n",
       "      <td>184.7</td>\n",
       "      <td>0</td>\n",
       "      <td>239.5</td>\n",
       "      <td>73</td>\n",
       "      <td>60</td>\n",
       "      <td>120</td>\n",
       "      <td>415</td>\n",
       "      <td>2</td>\n",
       "    </tr>\n",
       "    <tr>\n",
       "      <th>3</th>\n",
       "      <td>66</td>\n",
       "      <td>3.24</td>\n",
       "      <td>5.95</td>\n",
       "      <td>32</td>\n",
       "      <td>0</td>\n",
       "      <td>12.0</td>\n",
       "      <td>31.93</td>\n",
       "      <td>129.8</td>\n",
       "      <td>3</td>\n",
       "      <td>11.03</td>\n",
       "      <td>187.8</td>\n",
       "      <td>1</td>\n",
       "      <td>132.3</td>\n",
       "      <td>90</td>\n",
       "      <td>117</td>\n",
       "      <td>113</td>\n",
       "      <td>408</td>\n",
       "      <td>2</td>\n",
       "    </tr>\n",
       "    <tr>\n",
       "      <th>4</th>\n",
       "      <td>136</td>\n",
       "      <td>2.65</td>\n",
       "      <td>10.08</td>\n",
       "      <td>0</td>\n",
       "      <td>0</td>\n",
       "      <td>9.8</td>\n",
       "      <td>34.77</td>\n",
       "      <td>208.8</td>\n",
       "      <td>2</td>\n",
       "      <td>17.75</td>\n",
       "      <td>204.5</td>\n",
       "      <td>0</td>\n",
       "      <td>224.0</td>\n",
       "      <td>95</td>\n",
       "      <td>63</td>\n",
       "      <td>119</td>\n",
       "      <td>510</td>\n",
       "      <td>0</td>\n",
       "    </tr>\n",
       "  </tbody>\n",
       "</table>\n",
       "</div>"
      ],
      "text/plain": [
       "   variable_0  variable_1  variable_2  variable_3  variable_4  variable_5  \\\n",
       "0          54        2.62        5.21           0           0         9.7   \n",
       "1         116        3.35        5.86           0           0        12.4   \n",
       "2          92        3.32       10.78           0           0        12.3   \n",
       "3          66        3.24        5.95          32           0        12.0   \n",
       "4         136        2.65       10.08           0           0         9.8   \n",
       "\n",
       "   variable_6  variable_7  variable_8  variable_9  variable_10  variable_11  \\\n",
       "0       27.17       264.0           7       22.44        159.8            0   \n",
       "1       23.36       120.0           2       10.20        137.4            0   \n",
       "2       31.40       262.0           6       22.27        184.7            0   \n",
       "3       31.93       129.8           3       11.03        187.8            1   \n",
       "4       34.77       208.8           2       17.75        204.5            0   \n",
       "\n",
       "   variable_12  variable_13  variable_14  variable_15  variable_16  \\\n",
       "0        115.7           64           99           70          408   \n",
       "1        130.3           94          126           64          510   \n",
       "2        239.5           73           60          120          415   \n",
       "3        132.3           90          117          113          408   \n",
       "4        224.0           95           63          119          510   \n",
       "\n",
       "   variable_17  \n",
       "0            2  \n",
       "1            3  \n",
       "2            2  \n",
       "3            2  \n",
       "4            0  "
      ]
     },
     "execution_count": 6,
     "metadata": {},
     "output_type": "execute_result"
    }
   ],
   "source": [
    "test.head()"
   ]
  },
  {
   "cell_type": "code",
   "execution_count": 7,
   "metadata": {
    "colab": {
     "base_uri": "https://localhost:8080/",
     "height": 52
    },
    "colab_type": "code",
    "id": "QyxiaLEs1nKh",
    "outputId": "6009cb8b-3f65-4393-cb84-6b149ba097b8"
   },
   "outputs": [
    {
     "name": "stdout",
     "output_type": "stream",
     "text": [
      "Train shape:(3000, 19)\n",
      "Test shape: (333, 18)\n"
     ]
    }
   ],
   "source": [
    "print(\"Train shape:\" + str(train.shape))\n",
    "print(\"Test shape: \" + str(test.shape))"
   ]
  },
  {
   "cell_type": "code",
   "execution_count": 8,
   "metadata": {
    "colab": {
     "base_uri": "https://localhost:8080/",
     "height": 34
    },
    "colab_type": "code",
    "id": "mqlFga385P2d",
    "outputId": "9e868f7f-772f-47ca-baea-6c1781509216"
   },
   "outputs": [
    {
     "data": {
      "text/plain": [
       "False"
      ]
     },
     "execution_count": 8,
     "metadata": {},
     "output_type": "execute_result"
    }
   ],
   "source": [
    "train.isnull().values.any()"
   ]
  },
  {
   "cell_type": "code",
   "execution_count": 9,
   "metadata": {
    "colab": {},
    "colab_type": "code",
    "id": "qmrYQdAL7Otv"
   },
   "outputs": [],
   "source": [
    "LABELS = [\"No\", \"Yes\"]"
   ]
  },
  {
   "cell_type": "code",
   "execution_count": 10,
   "metadata": {
    "colab": {
     "base_uri": "https://localhost:8080/",
     "height": 295
    },
    "colab_type": "code",
    "id": "mFI5fE955bCh",
    "outputId": "199d9745-25e2-48f7-800f-fe56ce59ab39"
   },
   "outputs": [
    {
     "data": {
      "image/png": "[encoded data removed]",
      "text/plain": [
       "<Figure size 432x288 with 1 Axes>"
      ]
     },
     "metadata": {
      "needs_background": "light"
     },
     "output_type": "display_data"
    }
   ],
   "source": [
    "#distribution\n",
    "count_classes = pd.value_counts(train['target'], sort = True)\n",
    "count_classes.plot(kind = 'bar', rot=0)\n",
    "plt.title(\"Distribution\")\n",
    "plt.xticks(range(2), LABELS)\n",
    "plt.xlabel(\"Target\")\n",
    "plt.ylabel(\"Frequency\");"
   ]
  },
  {
   "cell_type": "code",
   "execution_count": 11,
   "metadata": {
    "colab": {
     "base_uri": "https://localhost:8080/",
     "height": 52
    },
    "colab_type": "code",
    "id": "kj88u-xd7YVG",
    "outputId": "8e92e789-c6df-4ffd-bd4c-814373a4bf94"
   },
   "outputs": [
    {
     "name": "stdout",
     "output_type": "stream",
     "text": [
      "Yes shape: (445, 19)\n",
      "No shape: (2555, 19)\n"
     ]
    }
   ],
   "source": [
    "yes = train[train.target == 1]\n",
    "no = train[train.target == 0]\n",
    "print(\"Yes shape: \" + str(yes.shape))\n",
    "print(\"No shape: \" + str(no.shape))"
   ]
  },
  {
   "cell_type": "markdown",
   "metadata": {
    "colab_type": "text",
    "id": "Y-12q76OulVZ"
   },
   "source": [
    "### **Random Forest**"
   ]
  },
  {
   "cell_type": "code",
   "execution_count": 53,
   "metadata": {
    "colab": {
     "base_uri": "https://localhost:8080/",
     "height": 52
    },
    "colab_type": "code",
    "id": "OlOh-Mw4uEHJ",
    "outputId": "81a8d86c-3c0c-4986-ee95-551be869d3d0"
   },
   "outputs": [
    {
     "name": "stderr",
     "output_type": "stream",
     "text": [
      "C:\\Users\\Hovo\\Anaconda3\\lib\\site-packages\\sklearn\\ensemble\\forest.py:246: FutureWarning: The default value of n_estimators will change from 10 in version 0.20 to 100 in 0.22.\n",
      "  \"10 in version 0.20 to 100 in 0.22.\", FutureWarning)\n"
     ]
    }
   ],
   "source": [
    "#constructing Random Forest\n",
    "#The choice of RF is justified as it runs fast and can deal with unbalanced data\n",
    "#To validate data we split the train set (as the given test set does not have labels to check accuracy)\n",
    "X_train, X_test, y_train, y_test = train_test_split(train.drop('target',axis=1),train['target'], test_size=0.30, random_state=1)\n",
    "rf = RandomForestClassifier()\n",
    "rf = rf.fit(X_train,y_train)\n",
    "y_pred = rf.predict(X_test)"
   ]
  },
  {
   "cell_type": "code",
   "execution_count": 14,
   "metadata": {
    "colab": {
     "base_uri": "https://localhost:8080/",
     "height": 369
    },
    "colab_type": "code",
    "id": "J2pi2iZj6tHp",
    "outputId": "8fd317af-e772-4c4e-9376-588226bb7ac3"
   },
   "outputs": [],
   "source": [
    "#probabilities \n",
    "y_pred_probs = rf.predict_proba(X_test)\n",
    "# y_pred_probs[:20]"
   ]
  },
  {
   "cell_type": "code",
   "execution_count": 19,
   "metadata": {
    "colab": {
     "base_uri": "https://localhost:8080/",
     "height": 34
    },
    "colab_type": "code",
    "id": "sVw87ofFuSMm",
    "outputId": "fa053a41-8af2-438e-f44a-5485efb8a650"
   },
   "outputs": [
    {
     "name": "stdout",
     "output_type": "stream",
     "text": [
      "Accuracy: 0.94\n"
     ]
    }
   ],
   "source": [
    "#The Accuracy is 94%\n",
    "print(\"Accuracy:\",metrics.accuracy_score(y_test, y_pred))"
   ]
  },
  {
   "cell_type": "code",
   "execution_count": 23,
   "metadata": {
    "colab": {
     "base_uri": "https://localhost:8080/",
     "height": 175
    },
    "colab_type": "code",
    "id": "o_3M3IwqMFef",
    "outputId": "a85b2537-6fcf-4d66-8ff5-7a262800355d"
   },
   "outputs": [
    {
     "name": "stdout",
     "output_type": "stream",
     "text": [
      "              precision    recall  f1-score   support\n",
      "\n",
      "           0       0.94      0.99      0.97       756\n",
      "           1       0.92      0.69      0.79       144\n",
      "\n",
      "   micro avg       0.94      0.94      0.94       900\n",
      "   macro avg       0.93      0.84      0.88       900\n",
      "weighted avg       0.94      0.94      0.94       900\n",
      "\n"
     ]
    }
   ],
   "source": [
    "print(classification_report(y_test,y_pred))"
   ]
  },
  {
   "cell_type": "code",
   "execution_count": 26,
   "metadata": {
    "colab": {
     "base_uri": "https://localhost:8080/",
     "height": 367
    },
    "colab_type": "code",
    "id": "kLXpBpBFMx-6",
    "outputId": "5a7616c9-e996-48d5-a99e-e03bdeaac621"
   },
   "outputs": [
    {
     "name": "stdout",
     "output_type": "stream",
     "text": [
      "Confusion matrix, without normalization\n",
      "[[747   9]\n",
      " [ 45  99]]\n"
     ]
    },
    {
     "data": {
      "text/plain": [
       "<matplotlib.axes._subplots.AxesSubplot at 0x2d9e095f828>"
      ]
     },
     "execution_count": 26,
     "metadata": {},
     "output_type": "execute_result"
    },
    {
     "data": {
      "image/png": "[encoded data removed]",
      "text/plain": [
       "<Figure size 432x288 with 2 Axes>"
      ]
     },
     "metadata": {
      "needs_background": "light"
     },
     "output_type": "display_data"
    }
   ],
   "source": [
    "#confusion matrix\n",
    "plot_confusion_matrix(y_test, y_pred, np.array([\"No\", \"Yes\"]), title='Confusion matrix, without normalization')"
   ]
  },
  {
   "cell_type": "code",
   "execution_count": 27,
   "metadata": {
    "colab": {
     "base_uri": "https://localhost:8080/",
     "height": 295
    },
    "colab_type": "code",
    "id": "HC2BolPrQQwd",
    "outputId": "a3e88e9f-1da4-4843-8383-eb17dbec869d"
   },
   "outputs": [
    {
     "data": {
      "image/png": "[encoded data removed]",
      "text/plain": [
       "<Figure size 432x288 with 1 Axes>"
      ]
     },
     "metadata": {
      "needs_background": "light"
     },
     "output_type": "display_data"
    }
   ],
   "source": [
    "#ROC Curve\n",
    "#AUC is 0.84, the close to 1 the better\n",
    "fpr = dict()\n",
    "tpr = dict()\n",
    "roc_auc = dict()\n",
    "\n",
    "fpr, tpr, _ = roc_curve(y_test, y_pred)\n",
    "roc_auc = auc(fpr, tpr)\n",
    "plt.figure()\n",
    "lw = 2\n",
    "plt.plot(fpr, tpr, color='darkorange',\n",
    "         lw=lw, label='ROC curve (area = %0.2f)' % roc_auc)\n",
    "plt.plot([0, 1], [0, 1], color='navy', lw=lw, linestyle='--')\n",
    "plt.xlim([0.0, 1.0])\n",
    "plt.ylim([0.0, 1.05])\n",
    "plt.xlabel('False Positive Rate')\n",
    "plt.ylabel('True Positive Rate')\n",
    "plt.title('ROC')\n",
    "plt.legend(loc=\"lower right\")\n",
    "plt.show()"
   ]
  },
  {
   "cell_type": "code",
   "execution_count": 28,
   "metadata": {
    "colab": {
     "base_uri": "https://localhost:8080/",
     "height": 625
    },
    "colab_type": "code",
    "id": "Dki_1Xb0nfoJ",
    "outputId": "545de677-eecc-45ae-df49-8ddfde09f652"
   },
   "outputs": [
    {
     "data": {
      "text/plain": [
       "Text(0.5, 1.0, 'Feature Importance')"
      ]
     },
     "execution_count": 28,
     "metadata": {},
     "output_type": "execute_result"
    },
    {
     "data": {
      "image/png": "[encoded data removed]",
      "text/plain": [
       "<Figure size 576x720 with 1 Axes>"
      ]
     },
     "metadata": {
      "needs_background": "light"
     },
     "output_type": "display_data"
    }
   ],
   "source": [
    "#Understanding which varibales are more important\n",
    "importances = rf.feature_importances_\n",
    "imp_coef = pd.Series(importances).sort_values()\n",
    "matplotlib.rcParams['figure.figsize'] = (8.0, 10.0)\n",
    "imp_coef.plot(kind = \"barh\", color = \"orange\")\n",
    "plt.title(\"Feature Importance\")"
   ]
  },
  {
   "cell_type": "code",
   "execution_count": 0,
   "metadata": {
    "colab": {},
    "colab_type": "code",
    "id": "dcm3M9Yen48Q"
   },
   "outputs": [],
   "source": [
    "#test = test.drop([\"predicted tagret\"], axis = 1)\n",
    "#rf.predict(test)"
   ]
  },
  {
   "cell_type": "code",
   "execution_count": 32,
   "metadata": {
    "colab": {},
    "colab_type": "code",
    "id": "hhPzgb2knPN7"
   },
   "outputs": [],
   "source": [
    "test_pred_probs = rf.predict_proba(test)\n",
    "# test_pred_probs"
   ]
  },
  {
   "cell_type": "code",
   "execution_count": 31,
   "metadata": {
    "colab": {
     "base_uri": "https://localhost:8080/",
     "height": 474
    },
    "colab_type": "code",
    "id": "FKo69dz8e_AJ",
    "outputId": "3296ca0b-f7ec-4400-d1f8-8caafea498ce"
   },
   "outputs": [],
   "source": [
    "# test_pred_probs[:, 1]"
   ]
  },
  {
   "cell_type": "code",
   "execution_count": 33,
   "metadata": {
    "colab": {},
    "colab_type": "code",
    "id": "07Slz-Bt0d56"
   },
   "outputs": [],
   "source": [
    "#testing the result on the given test set\n",
    "test_and_predicted_target = test\n",
    "test_and_predicted_target[\"predicted tagret\"] = pd.Series(test_pred_probs[:, 1])"
   ]
  },
  {
   "cell_type": "code",
   "execution_count": 54,
   "metadata": {
    "colab": {
     "base_uri": "https://localhost:8080/",
     "height": 1918
    },
    "colab_type": "code",
    "id": "g7ygR6VY0uUv",
    "outputId": "71b08095-c409-4f87-cbc7-1ac9f1985cc4"
   },
   "outputs": [
    {
     "data": {
      "text/html": [
       "<div>\n",
       "<style scoped>\n",
       "    .dataframe tbody tr th:only-of-type {\n",
       "        vertical-align: middle;\n",
       "    }\n",
       "\n",
       "    .dataframe tbody tr th {\n",
       "        vertical-align: top;\n",
       "    }\n",
       "\n",
       "    .dataframe thead th {\n",
       "        text-align: right;\n",
       "    }\n",
       "</style>\n",
       "<table border=\"1\" class=\"dataframe\">\n",
       "  <thead>\n",
       "    <tr style=\"text-align: right;\">\n",
       "      <th></th>\n",
       "      <th>variable_0</th>\n",
       "      <th>variable_1</th>\n",
       "      <th>variable_2</th>\n",
       "      <th>variable_3</th>\n",
       "      <th>variable_4</th>\n",
       "      <th>variable_5</th>\n",
       "      <th>variable_6</th>\n",
       "      <th>variable_7</th>\n",
       "      <th>variable_8</th>\n",
       "      <th>variable_9</th>\n",
       "      <th>variable_10</th>\n",
       "      <th>variable_11</th>\n",
       "      <th>variable_12</th>\n",
       "      <th>variable_13</th>\n",
       "      <th>variable_14</th>\n",
       "      <th>variable_15</th>\n",
       "      <th>variable_16</th>\n",
       "      <th>variable_17</th>\n",
       "      <th>predicted tagret</th>\n",
       "    </tr>\n",
       "  </thead>\n",
       "  <tbody>\n",
       "    <tr>\n",
       "      <th>269</th>\n",
       "      <td>95</td>\n",
       "      <td>1.97</td>\n",
       "      <td>8.07</td>\n",
       "      <td>0</td>\n",
       "      <td>0</td>\n",
       "      <td>7.3</td>\n",
       "      <td>45.73</td>\n",
       "      <td>233.7</td>\n",
       "      <td>4</td>\n",
       "      <td>19.86</td>\n",
       "      <td>269.0</td>\n",
       "      <td>0</td>\n",
       "      <td>179.3</td>\n",
       "      <td>120</td>\n",
       "      <td>120</td>\n",
       "      <td>61</td>\n",
       "      <td>415</td>\n",
       "      <td>2</td>\n",
       "      <td>1.0</td>\n",
       "    </tr>\n",
       "    <tr>\n",
       "      <th>278</th>\n",
       "      <td>134</td>\n",
       "      <td>3.32</td>\n",
       "      <td>11.11</td>\n",
       "      <td>0</td>\n",
       "      <td>0</td>\n",
       "      <td>12.3</td>\n",
       "      <td>50.32</td>\n",
       "      <td>226.4</td>\n",
       "      <td>10</td>\n",
       "      <td>19.24</td>\n",
       "      <td>296.0</td>\n",
       "      <td>0</td>\n",
       "      <td>246.8</td>\n",
       "      <td>117</td>\n",
       "      <td>93</td>\n",
       "      <td>98</td>\n",
       "      <td>510</td>\n",
       "      <td>0</td>\n",
       "      <td>0.9</td>\n",
       "    </tr>\n",
       "    <tr>\n",
       "      <th>180</th>\n",
       "      <td>103</td>\n",
       "      <td>2.94</td>\n",
       "      <td>7.50</td>\n",
       "      <td>36</td>\n",
       "      <td>0</td>\n",
       "      <td>10.9</td>\n",
       "      <td>14.82</td>\n",
       "      <td>169.3</td>\n",
       "      <td>5</td>\n",
       "      <td>14.39</td>\n",
       "      <td>87.2</td>\n",
       "      <td>1</td>\n",
       "      <td>166.7</td>\n",
       "      <td>110</td>\n",
       "      <td>92</td>\n",
       "      <td>80</td>\n",
       "      <td>510</td>\n",
       "      <td>6</td>\n",
       "      <td>0.9</td>\n",
       "    </tr>\n",
       "    <tr>\n",
       "      <th>306</th>\n",
       "      <td>132</td>\n",
       "      <td>2.40</td>\n",
       "      <td>8.63</td>\n",
       "      <td>0</td>\n",
       "      <td>0</td>\n",
       "      <td>8.9</td>\n",
       "      <td>49.50</td>\n",
       "      <td>234.2</td>\n",
       "      <td>3</td>\n",
       "      <td>19.91</td>\n",
       "      <td>291.2</td>\n",
       "      <td>0</td>\n",
       "      <td>191.7</td>\n",
       "      <td>132</td>\n",
       "      <td>104</td>\n",
       "      <td>87</td>\n",
       "      <td>408</td>\n",
       "      <td>1</td>\n",
       "      <td>0.9</td>\n",
       "    </tr>\n",
       "    <tr>\n",
       "      <th>9</th>\n",
       "      <td>84</td>\n",
       "      <td>2.81</td>\n",
       "      <td>7.06</td>\n",
       "      <td>0</td>\n",
       "      <td>0</td>\n",
       "      <td>10.4</td>\n",
       "      <td>47.60</td>\n",
       "      <td>202.2</td>\n",
       "      <td>4</td>\n",
       "      <td>17.19</td>\n",
       "      <td>280.0</td>\n",
       "      <td>0</td>\n",
       "      <td>156.8</td>\n",
       "      <td>90</td>\n",
       "      <td>113</td>\n",
       "      <td>103</td>\n",
       "      <td>415</td>\n",
       "      <td>0</td>\n",
       "      <td>0.9</td>\n",
       "    </tr>\n",
       "  </tbody>\n",
       "</table>\n",
       "</div>"
      ],
      "text/plain": [
       "     variable_0  variable_1  variable_2  variable_3  variable_4  variable_5  \\\n",
       "269          95        1.97        8.07           0           0         7.3   \n",
       "278         134        3.32       11.11           0           0        12.3   \n",
       "180         103        2.94        7.50          36           0        10.9   \n",
       "306         132        2.40        8.63           0           0         8.9   \n",
       "9            84        2.81        7.06           0           0        10.4   \n",
       "\n",
       "     variable_6  variable_7  variable_8  variable_9  variable_10  variable_11  \\\n",
       "269       45.73       233.7           4       19.86        269.0            0   \n",
       "278       50.32       226.4          10       19.24        296.0            0   \n",
       "180       14.82       169.3           5       14.39         87.2            1   \n",
       "306       49.50       234.2           3       19.91        291.2            0   \n",
       "9         47.60       202.2           4       17.19        280.0            0   \n",
       "\n",
       "     variable_12  variable_13  variable_14  variable_15  variable_16  \\\n",
       "269        179.3          120          120           61          415   \n",
       "278        246.8          117           93           98          510   \n",
       "180        166.7          110           92           80          510   \n",
       "306        191.7          132          104           87          408   \n",
       "9          156.8           90          113          103          415   \n",
       "\n",
       "     variable_17  predicted tagret  \n",
       "269            2               1.0  \n",
       "278            0               0.9  \n",
       "180            6               0.9  \n",
       "306            1               0.9  \n",
       "9              0               0.9  "
      ]
     },
     "execution_count": 54,
     "metadata": {},
     "output_type": "execute_result"
    }
   ],
   "source": [
    "test_and_predicted_target.sort_values(by=['predicted tagret'], ascending=False).head()"
   ]
  },
  {
   "cell_type": "code",
   "execution_count": 37,
   "metadata": {
    "colab": {},
    "colab_type": "code",
    "id": "mXGxS11LQzUj"
   },
   "outputs": [],
   "source": [
    "#Saving the result of test set with correspoding labels\n",
    "test_and_predicted_target.to_csv(\"test_and_predicted_target\")"
   ]
  },
  {
   "cell_type": "code",
   "execution_count": 55,
   "metadata": {
    "colab": {
     "base_uri": "https://localhost:8080/",
     "height": 232
    },
    "colab_type": "code",
    "id": "1sUtvBrSQdOJ",
    "outputId": "5b63c19d-1305-45d7-a58c-ff821d896f8f"
   },
   "outputs": [
    {
     "data": {
      "text/html": [
       "<div>\n",
       "<style scoped>\n",
       "    .dataframe tbody tr th:only-of-type {\n",
       "        vertical-align: middle;\n",
       "    }\n",
       "\n",
       "    .dataframe tbody tr th {\n",
       "        vertical-align: top;\n",
       "    }\n",
       "\n",
       "    .dataframe thead th {\n",
       "        text-align: right;\n",
       "    }\n",
       "</style>\n",
       "<table border=\"1\" class=\"dataframe\">\n",
       "  <thead>\n",
       "    <tr style=\"text-align: right;\">\n",
       "      <th></th>\n",
       "      <th>Unnamed: 0</th>\n",
       "      <th>variable_0</th>\n",
       "      <th>variable_1</th>\n",
       "      <th>variable_2</th>\n",
       "      <th>variable_3</th>\n",
       "      <th>variable_4</th>\n",
       "      <th>variable_5</th>\n",
       "      <th>variable_6</th>\n",
       "      <th>variable_7</th>\n",
       "      <th>variable_8</th>\n",
       "      <th>variable_9</th>\n",
       "      <th>variable_10</th>\n",
       "      <th>variable_11</th>\n",
       "      <th>variable_12</th>\n",
       "      <th>variable_13</th>\n",
       "      <th>variable_14</th>\n",
       "      <th>variable_15</th>\n",
       "      <th>variable_16</th>\n",
       "      <th>variable_17</th>\n",
       "      <th>predicted tagret</th>\n",
       "    </tr>\n",
       "  </thead>\n",
       "  <tbody>\n",
       "    <tr>\n",
       "      <th>0</th>\n",
       "      <td>0</td>\n",
       "      <td>54</td>\n",
       "      <td>2.62</td>\n",
       "      <td>5.21</td>\n",
       "      <td>0</td>\n",
       "      <td>0</td>\n",
       "      <td>9.7</td>\n",
       "      <td>27.17</td>\n",
       "      <td>264.0</td>\n",
       "      <td>7</td>\n",
       "      <td>22.44</td>\n",
       "      <td>159.8</td>\n",
       "      <td>0</td>\n",
       "      <td>115.7</td>\n",
       "      <td>64</td>\n",
       "      <td>99</td>\n",
       "      <td>70</td>\n",
       "      <td>408</td>\n",
       "      <td>2</td>\n",
       "      <td>0.0</td>\n",
       "    </tr>\n",
       "    <tr>\n",
       "      <th>1</th>\n",
       "      <td>1</td>\n",
       "      <td>116</td>\n",
       "      <td>3.35</td>\n",
       "      <td>5.86</td>\n",
       "      <td>0</td>\n",
       "      <td>0</td>\n",
       "      <td>12.4</td>\n",
       "      <td>23.36</td>\n",
       "      <td>120.0</td>\n",
       "      <td>2</td>\n",
       "      <td>10.20</td>\n",
       "      <td>137.4</td>\n",
       "      <td>0</td>\n",
       "      <td>130.3</td>\n",
       "      <td>94</td>\n",
       "      <td>126</td>\n",
       "      <td>64</td>\n",
       "      <td>510</td>\n",
       "      <td>3</td>\n",
       "      <td>0.1</td>\n",
       "    </tr>\n",
       "    <tr>\n",
       "      <th>2</th>\n",
       "      <td>2</td>\n",
       "      <td>92</td>\n",
       "      <td>3.32</td>\n",
       "      <td>10.78</td>\n",
       "      <td>0</td>\n",
       "      <td>0</td>\n",
       "      <td>12.3</td>\n",
       "      <td>31.40</td>\n",
       "      <td>262.0</td>\n",
       "      <td>6</td>\n",
       "      <td>22.27</td>\n",
       "      <td>184.7</td>\n",
       "      <td>0</td>\n",
       "      <td>239.5</td>\n",
       "      <td>73</td>\n",
       "      <td>60</td>\n",
       "      <td>120</td>\n",
       "      <td>415</td>\n",
       "      <td>2</td>\n",
       "      <td>0.0</td>\n",
       "    </tr>\n",
       "    <tr>\n",
       "      <th>3</th>\n",
       "      <td>3</td>\n",
       "      <td>66</td>\n",
       "      <td>3.24</td>\n",
       "      <td>5.95</td>\n",
       "      <td>32</td>\n",
       "      <td>0</td>\n",
       "      <td>12.0</td>\n",
       "      <td>31.93</td>\n",
       "      <td>129.8</td>\n",
       "      <td>3</td>\n",
       "      <td>11.03</td>\n",
       "      <td>187.8</td>\n",
       "      <td>1</td>\n",
       "      <td>132.3</td>\n",
       "      <td>90</td>\n",
       "      <td>117</td>\n",
       "      <td>113</td>\n",
       "      <td>408</td>\n",
       "      <td>2</td>\n",
       "      <td>0.1</td>\n",
       "    </tr>\n",
       "    <tr>\n",
       "      <th>4</th>\n",
       "      <td>4</td>\n",
       "      <td>136</td>\n",
       "      <td>2.65</td>\n",
       "      <td>10.08</td>\n",
       "      <td>0</td>\n",
       "      <td>0</td>\n",
       "      <td>9.8</td>\n",
       "      <td>34.77</td>\n",
       "      <td>208.8</td>\n",
       "      <td>2</td>\n",
       "      <td>17.75</td>\n",
       "      <td>204.5</td>\n",
       "      <td>0</td>\n",
       "      <td>224.0</td>\n",
       "      <td>95</td>\n",
       "      <td>63</td>\n",
       "      <td>119</td>\n",
       "      <td>510</td>\n",
       "      <td>0</td>\n",
       "      <td>0.0</td>\n",
       "    </tr>\n",
       "  </tbody>\n",
       "</table>\n",
       "</div>"
      ],
      "text/plain": [
       "   Unnamed: 0  variable_0  variable_1  variable_2  variable_3  variable_4  \\\n",
       "0           0          54        2.62        5.21           0           0   \n",
       "1           1         116        3.35        5.86           0           0   \n",
       "2           2          92        3.32       10.78           0           0   \n",
       "3           3          66        3.24        5.95          32           0   \n",
       "4           4         136        2.65       10.08           0           0   \n",
       "\n",
       "   variable_5  variable_6  variable_7  variable_8  variable_9  variable_10  \\\n",
       "0         9.7       27.17       264.0           7       22.44        159.8   \n",
       "1        12.4       23.36       120.0           2       10.20        137.4   \n",
       "2        12.3       31.40       262.0           6       22.27        184.7   \n",
       "3        12.0       31.93       129.8           3       11.03        187.8   \n",
       "4         9.8       34.77       208.8           2       17.75        204.5   \n",
       "\n",
       "   variable_11  variable_12  variable_13  variable_14  variable_15  \\\n",
       "0            0        115.7           64           99           70   \n",
       "1            0        130.3           94          126           64   \n",
       "2            0        239.5           73           60          120   \n",
       "3            1        132.3           90          117          113   \n",
       "4            0        224.0           95           63          119   \n",
       "\n",
       "   variable_16  variable_17  predicted tagret  \n",
       "0          408            2               0.0  \n",
       "1          510            3               0.1  \n",
       "2          415            2               0.0  \n",
       "3          408            2               0.1  \n",
       "4          510            0               0.0  "
      ]
     },
     "execution_count": 55,
     "metadata": {},
     "output_type": "execute_result"
    }
   ],
   "source": [
    "test_labels = pd.read_csv('test_and_predicted_target')\n",
    "test_labels.head()"
   ]
  },
  {
   "cell_type": "markdown",
   "metadata": {
    "colab_type": "text",
    "id": "hCRYvGIRu6Tr"
   },
   "source": [
    "### **Random Forest with 5-fold CV**"
   ]
  },
  {
   "cell_type": "code",
   "execution_count": 47,
   "metadata": {},
   "outputs": [],
   "source": [
    "#we can also use cross validation to understand how the model performs on unseen data\n",
    "#5-fold and 10-fold\n",
    "X_k_fold = train.iloc[:, 0:18]\n",
    "y_k_fold = train.iloc[:, 18]"
   ]
  },
  {
   "cell_type": "code",
   "execution_count": 48,
   "metadata": {
    "colab": {
     "base_uri": "https://localhost:8080/",
     "height": 193
    },
    "colab_type": "code",
    "id": "X17xoFBjuqaq",
    "outputId": "68bc063b-7f2c-4a30-edb0-9f5ae5d0d698"
   },
   "outputs": [
    {
     "name": "stderr",
     "output_type": "stream",
     "text": [
      "C:\\Users\\Hovo\\Anaconda3\\lib\\site-packages\\sklearn\\ensemble\\forest.py:246: FutureWarning: The default value of n_estimators will change from 10 in version 0.20 to 100 in 0.22.\n",
      "  \"10 in version 0.20 to 100 in 0.22.\", FutureWarning)\n",
      "C:\\Users\\Hovo\\Anaconda3\\lib\\site-packages\\sklearn\\ensemble\\forest.py:246: FutureWarning: The default value of n_estimators will change from 10 in version 0.20 to 100 in 0.22.\n",
      "  \"10 in version 0.20 to 100 in 0.22.\", FutureWarning)\n",
      "C:\\Users\\Hovo\\Anaconda3\\lib\\site-packages\\sklearn\\ensemble\\forest.py:246: FutureWarning: The default value of n_estimators will change from 10 in version 0.20 to 100 in 0.22.\n",
      "  \"10 in version 0.20 to 100 in 0.22.\", FutureWarning)\n",
      "C:\\Users\\Hovo\\Anaconda3\\lib\\site-packages\\sklearn\\ensemble\\forest.py:246: FutureWarning: The default value of n_estimators will change from 10 in version 0.20 to 100 in 0.22.\n",
      "  \"10 in version 0.20 to 100 in 0.22.\", FutureWarning)\n",
      "C:\\Users\\Hovo\\Anaconda3\\lib\\site-packages\\sklearn\\ensemble\\forest.py:246: FutureWarning: The default value of n_estimators will change from 10 in version 0.20 to 100 in 0.22.\n",
      "  \"10 in version 0.20 to 100 in 0.22.\", FutureWarning)\n"
     ]
    }
   ],
   "source": [
    "scores = cross_val_score(RandomForestClassifier(), X_k_fold, y_k_fold, cv=5)"
   ]
  },
  {
   "cell_type": "code",
   "execution_count": 49,
   "metadata": {
    "colab": {
     "base_uri": "https://localhost:8080/",
     "height": 34
    },
    "colab_type": "code",
    "id": "iJ5U8H8YuuXY",
    "outputId": "a61cd3f5-11fc-46ab-ae79-3c914a5ae8f7"
   },
   "outputs": [
    {
     "name": "stdout",
     "output_type": "stream",
     "text": [
      "Accuracy: 0.94 (+/- 0.02)\n"
     ]
    }
   ],
   "source": [
    "#CI for Accuracy\n",
    "print(\"Accuracy: %0.2f (+/- %0.2f)\" % (scores.mean(), scores.std() * 2))"
   ]
  },
  {
   "cell_type": "code",
   "execution_count": 50,
   "metadata": {
    "colab": {
     "base_uri": "https://localhost:8080/",
     "height": 369
    },
    "colab_type": "code",
    "id": "8LkvkoOQyjwd",
    "outputId": "0a0f19b6-9a5d-43bc-95ef-9e9a6032d6d6"
   },
   "outputs": [
    {
     "name": "stderr",
     "output_type": "stream",
     "text": [
      "C:\\Users\\Hovo\\Anaconda3\\lib\\site-packages\\sklearn\\ensemble\\forest.py:246: FutureWarning: The default value of n_estimators will change from 10 in version 0.20 to 100 in 0.22.\n",
      "  \"10 in version 0.20 to 100 in 0.22.\", FutureWarning)\n",
      "C:\\Users\\Hovo\\Anaconda3\\lib\\site-packages\\sklearn\\ensemble\\forest.py:246: FutureWarning: The default value of n_estimators will change from 10 in version 0.20 to 100 in 0.22.\n",
      "  \"10 in version 0.20 to 100 in 0.22.\", FutureWarning)\n",
      "C:\\Users\\Hovo\\Anaconda3\\lib\\site-packages\\sklearn\\ensemble\\forest.py:246: FutureWarning: The default value of n_estimators will change from 10 in version 0.20 to 100 in 0.22.\n",
      "  \"10 in version 0.20 to 100 in 0.22.\", FutureWarning)\n",
      "C:\\Users\\Hovo\\Anaconda3\\lib\\site-packages\\sklearn\\ensemble\\forest.py:246: FutureWarning: The default value of n_estimators will change from 10 in version 0.20 to 100 in 0.22.\n",
      "  \"10 in version 0.20 to 100 in 0.22.\", FutureWarning)\n",
      "C:\\Users\\Hovo\\Anaconda3\\lib\\site-packages\\sklearn\\ensemble\\forest.py:246: FutureWarning: The default value of n_estimators will change from 10 in version 0.20 to 100 in 0.22.\n",
      "  \"10 in version 0.20 to 100 in 0.22.\", FutureWarning)\n",
      "C:\\Users\\Hovo\\Anaconda3\\lib\\site-packages\\sklearn\\ensemble\\forest.py:246: FutureWarning: The default value of n_estimators will change from 10 in version 0.20 to 100 in 0.22.\n",
      "  \"10 in version 0.20 to 100 in 0.22.\", FutureWarning)\n",
      "C:\\Users\\Hovo\\Anaconda3\\lib\\site-packages\\sklearn\\ensemble\\forest.py:246: FutureWarning: The default value of n_estimators will change from 10 in version 0.20 to 100 in 0.22.\n",
      "  \"10 in version 0.20 to 100 in 0.22.\", FutureWarning)\n",
      "C:\\Users\\Hovo\\Anaconda3\\lib\\site-packages\\sklearn\\ensemble\\forest.py:246: FutureWarning: The default value of n_estimators will change from 10 in version 0.20 to 100 in 0.22.\n",
      "  \"10 in version 0.20 to 100 in 0.22.\", FutureWarning)\n",
      "C:\\Users\\Hovo\\Anaconda3\\lib\\site-packages\\sklearn\\ensemble\\forest.py:246: FutureWarning: The default value of n_estimators will change from 10 in version 0.20 to 100 in 0.22.\n",
      "  \"10 in version 0.20 to 100 in 0.22.\", FutureWarning)\n",
      "C:\\Users\\Hovo\\Anaconda3\\lib\\site-packages\\sklearn\\ensemble\\forest.py:246: FutureWarning: The default value of n_estimators will change from 10 in version 0.20 to 100 in 0.22.\n",
      "  \"10 in version 0.20 to 100 in 0.22.\", FutureWarning)\n"
     ]
    }
   ],
   "source": [
    "cv_results = cross_validate(RandomForestClassifier(), X_k_fold, y_k_fold, cv=10)"
   ]
  },
  {
   "cell_type": "code",
   "execution_count": 51,
   "metadata": {
    "colab": {
     "base_uri": "https://localhost:8080/",
     "height": 52
    },
    "colab_type": "code",
    "id": "MV85c7W1y4SG",
    "outputId": "cdd7caac-a014-460f-89a7-01f0f2577810"
   },
   "outputs": [
    {
     "data": {
      "text/plain": [
       "array([0.94352159, 0.91362126, 0.93687708, 0.95348837, 0.96345515,\n",
       "       0.93645485, 0.93979933, 0.94314381, 0.95652174, 0.94314381])"
      ]
     },
     "execution_count": 51,
     "metadata": {},
     "output_type": "execute_result"
    }
   ],
   "source": [
    "cv_results['test_score'] "
   ]
  }
 ],
 "metadata": {
  "colab": {
   "name": "Task 1.ipynb",
   "provenance": [],
   "version": "0.3.2"
  },
  "kernelspec": {
   "display_name": "Python 3",
   "language": "python",
   "name": "python3"
  },
  "language_info": {
   "codemirror_mode": {
    "name": "ipython",
    "version": 3
   },
   "file_extension": ".py",
   "mimetype": "text/x-python",
   "name": "python",
   "nbconvert_exporter": "python",
   "pygments_lexer": "ipython3",
   "version": "3.7.1"
  }
 },
 "nbformat": 4,
 "nbformat_minor": 1
}
